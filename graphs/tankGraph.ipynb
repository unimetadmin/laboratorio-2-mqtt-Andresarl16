{
 "cells": [
  {
   "cell_type": "code",
   "execution_count": 1,
   "metadata": {},
   "outputs": [],
   "source": [
    "import sys\n",
    "import json\n",
    "import paho.mqtt.client"
   ]
  },
  {
   "cell_type": "code",
   "execution_count": 2,
   "metadata": {},
   "outputs": [
    {
     "data": {
      "application/vnd.jupyter.widget-view+json": {
       "model_id": "e002de5f407b4a739cadc942a76c3b6d",
       "version_major": 2,
       "version_minor": 0
      },
      "text/plain": [
       "FigureWidget({\n",
       "    'data': [], 'layout': {'template': '...'}\n",
       "})"
      ]
     },
     "metadata": {},
     "output_type": "display_data"
    }
   ],
   "source": [
    "import plotly.graph_objects as plot\n",
    "\n",
    "waterTankGraph = plot.FigureWidget()\n",
    "waterTankGraph"
   ]
  },
  {
   "cell_type": "code",
   "execution_count": null,
   "metadata": {},
   "outputs": [
    {
     "name": "stdout",
     "output_type": "stream",
     "text": [
      "connected (b'personCounterPotGraph')\n",
      "connected (b'personCounterPotGraph')\n",
      "connected (b'personCounterPotGraph')\n",
      "connected (b'personCounterPotGraph')\n",
      "connected (b'personCounterPotGraph')\n",
      "connected (b'personCounterPotGraph')\n",
      "connected (b'personCounterPotGraph')\n",
      "connected (b'personCounterPotGraph')\n",
      "connected (b'personCounterPotGraph')\n",
      "connected (b'personCounterPotGraph')\n",
      "connected (b'personCounterPotGraph')\n",
      "connected (b'personCounterPotGraph')\n",
      "connected (b'personCounterPotGraph')\n"
     ]
    }
   ],
   "source": [
    "waterTankGraph.add_scatter(y = [], x = [], text = \"Variation of Water Level\")\n",
    "waterTankScatter = waterTankGraph.data[0]\n",
    "waterTankLevel = []\n",
    "waterTankTime = []\n",
    "\n",
    "def on_connect(client, userdata, flags, rc):\n",
    "    print('connected (%s)' % client._client_id)\n",
    "    client.subscribe(topic='house/bathroom/tank', qos=2)\n",
    "    \n",
    "def on_message(client, userdata, message):\n",
    "    data = json.loads(message.payload)\n",
    "    if(\"waterLevel\" in data):\n",
    "        waterTankLevel.append(int(round(float(data[\"waterLevel\"]), 2)))\n",
    "        waterTankTime.append(data[\"date\"])\n",
    "        waterTankScatter.x = waterTankTime\n",
    "        waterTankScatter.y = waterTankLevel\n",
    "    \n",
    "def main():\n",
    "    client = paho.mqtt.client.Client(client_id='personCounterPotGraph', clean_session=False)\n",
    "    client.on_connect = on_connect\n",
    "    client.on_message = on_message\n",
    "    client.connect(host='127.0.0.1', port=1883)\n",
    "    client.loop_forever()\n",
    "\n",
    "if __name__ == '__main__':\n",
    "    main()\n",
    "\n",
    "sys.exit(0)"
   ]
  },
  {
   "cell_type": "code",
   "execution_count": null,
   "metadata": {},
   "outputs": [],
   "source": []
  }
 ],
 "metadata": {
  "kernelspec": {
   "display_name": "Python 3",
   "language": "python",
   "name": "python3"
  },
  "language_info": {
   "codemirror_mode": {
    "name": "ipython",
    "version": 3
   },
   "file_extension": ".py",
   "mimetype": "text/x-python",
   "name": "python",
   "nbconvert_exporter": "python",
   "pygments_lexer": "ipython3",
   "version": "3.8.5"
  }
 },
 "nbformat": 4,
 "nbformat_minor": 4
}
