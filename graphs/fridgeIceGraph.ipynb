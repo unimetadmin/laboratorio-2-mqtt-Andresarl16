{
 "cells": [
  {
   "cell_type": "code",
   "execution_count": 1,
   "metadata": {},
   "outputs": [],
   "source": [
    "import sys\n",
    "import json\n",
    "import paho.mqtt.client"
   ]
  },
  {
   "cell_type": "code",
   "execution_count": 2,
   "metadata": {},
   "outputs": [
    {
     "data": {
      "application/vnd.jupyter.widget-view+json": {
       "model_id": "064a12dbdd33416c9196f89572b997d5",
       "version_major": 2,
       "version_minor": 0
      },
      "text/plain": [
       "FigureWidget({\n",
       "    'data': [], 'layout': {'template': '...'}\n",
       "})"
      ]
     },
     "metadata": {},
     "output_type": "display_data"
    }
   ],
   "source": [
    "import plotly.graph_objects as plot\n",
    "\n",
    "fridgeIceGraph = plot.FigureWidget()\n",
    "fridgeIceGraph"
   ]
  },
  {
   "cell_type": "code",
   "execution_count": null,
   "metadata": {},
   "outputs": [
    {
     "name": "stdout",
     "output_type": "stream",
     "text": [
      "connected (b'fridgeGraph')\n",
      "connected (b'fridgeGraph')\n",
      "connected (b'fridgeGraph')\n",
      "connected (b'fridgeGraph')\n",
      "connected (b'fridgeGraph')\n",
      "connected (b'fridgeGraph')\n",
      "connected (b'fridgeGraph')\n",
      "connected (b'fridgeGraph')\n",
      "connected (b'fridgeGraph')\n",
      "connected (b'fridgeGraph')\n",
      "connected (b'fridgeGraph')\n",
      "connected (b'fridgeGraph')\n",
      "connected (b'fridgeGraph')\n",
      "connected (b'fridgeGraph')\n",
      "connected (b'fridgeGraph')\n",
      "connected (b'fridgeGraph')\n",
      "connected (b'fridgeGraph')\n",
      "connected (b'fridgeGraph')\n",
      "connected (b'fridgeGraph')\n",
      "connected (b'fridgeGraph')\n",
      "connected (b'fridgeGraph')\n",
      "connected (b'fridgeGraph')\n",
      "connected (b'fridgeGraph')\n",
      "connected (b'fridgeGraph')\n"
     ]
    }
   ],
   "source": [
    "fridgeIceGraph.add_scatter(y = [], x = [], text = \"Variation of Fridge Ice Capacity\")\n",
    "fridgeScatter = fridgeIceGraph.data[0]\n",
    "fridgeIce = []\n",
    "fridgeTime = []\n",
    "\n",
    "def on_connect(client, userdata, flags, rc):\n",
    "    print('connected (%s)' % client._client_id)\n",
    "    client.subscribe(topic='house/kitchen/fridge', qos=2)\n",
    "    \n",
    "def on_message(client, userdata, message):\n",
    "    data = json.loads(message.payload)\n",
    "    if(\"ice_capacity\" in data):\n",
    "        fridgeIce.append(float(data[\"ice_capacity\"]))\n",
    "        fridgeTime.append(data[\"date\"])\n",
    "        fridgeScatter.x = fridgeTime\n",
    "        fridgeScatter.y = fridgeIce\n",
    "    \n",
    "def main():\n",
    "    client = paho.mqtt.client.Client(client_id='fridgeGraph', clean_session=False)\n",
    "    client.on_connect = on_connect\n",
    "    client.on_message = on_message\n",
    "    client.connect(host='127.0.0.1', port=1883)\n",
    "    client.loop_forever()\n",
    "\n",
    "if __name__ == '__main__':\n",
    "    main()\n",
    "\n",
    "sys.exit(0)"
   ]
  },
  {
   "cell_type": "code",
   "execution_count": null,
   "metadata": {},
   "outputs": [],
   "source": []
  }
 ],
 "metadata": {
  "kernelspec": {
   "display_name": "Python 3",
   "language": "python",
   "name": "python3"
  },
  "language_info": {
   "codemirror_mode": {
    "name": "ipython",
    "version": 3
   },
   "file_extension": ".py",
   "mimetype": "text/x-python",
   "name": "python",
   "nbconvert_exporter": "python",
   "pygments_lexer": "ipython3",
   "version": "3.8.5"
  }
 },
 "nbformat": 4,
 "nbformat_minor": 4
}
