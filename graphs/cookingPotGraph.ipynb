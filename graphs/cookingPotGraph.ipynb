{
 "cells": [
  {
   "cell_type": "code",
   "execution_count": 1,
   "metadata": {},
   "outputs": [],
   "source": [
    "import sys\n",
    "import json\n",
    "import paho.mqtt.client"
   ]
  },
  {
   "cell_type": "code",
   "execution_count": 3,
   "metadata": {},
   "outputs": [
    {
     "output_type": "display_data",
     "data": {
      "text/plain": "FigureWidget({\n    'data': [], 'layout': {'template': '...'}\n})",
      "application/vnd.jupyter.widget-view+json": {
       "version_major": 2,
       "version_minor": 0,
       "model_id": "87f94a60934c44abb17775c6290f837e"
      }
     },
     "metadata": {}
    }
   ],
   "source": [
    "import plotly.graph_objects as plot\n",
    "\n",
    "cookingPotTempGraph = plot.FigureWidget()\n",
    "cookingPotTempGraph"
   ]
  },
  {
   "cell_type": "code",
   "execution_count": null,
   "metadata": {},
   "outputs": [
    {
     "name": "stdout",
     "output_type": "stream",
     "text": [
      "connected (b'cookingPotGraph')\n"
     ]
    }
   ],
   "source": [
    "cookingPotTempGraph.add_scatter(y = [], x = [], text = \"Variation of Cooking Pot Temperature\")\n",
    "cookingPotScatter = cookingPotTempGraph.data[0]\n",
    "cookingPotTemp = []\n",
    "cookingPotTime = []\n",
    "\n",
    "def on_connect(client, userdata, flags, rc):\n",
    "    print('connected (%s)' % client._client_id)\n",
    "    client.subscribe(topic='house/kitchen/cooking_pot', qos=2)\n",
    "    \n",
    "def on_message(client, userdata, message):\n",
    "    data = json.loads(message.payload)\n",
    "    if(\"temperature\" in data):\n",
    "        cookingPotTemp.append(float(data[\"temperature\"]))\n",
    "        cookingPotTime.append(data[\"date\"])\n",
    "        cookingPotScatter.x = cookingPotTime\n",
    "        cookingPotScatter.y = cookingPotTemp\n",
    "    \n",
    "def main():\n",
    "    client = paho.mqtt.client.Client(client_id='cookingPotGraph', clean_session=False)\n",
    "    client.on_connect = on_connect\n",
    "    client.on_message = on_message\n",
    "    client.connect(host='127.0.0.1', port=1883)\n",
    "    client.loop_forever()\n",
    "\n",
    "if __name__ == '__main__':\n",
    "    main()\n",
    "\n",
    "sys.exit(0)"
   ]
  },
  {
   "cell_type": "code",
   "execution_count": null,
   "metadata": {},
   "outputs": [],
   "source": []
  },
  {
   "cell_type": "code",
   "execution_count": null,
   "metadata": {},
   "outputs": [],
   "source": []
  }
 ],
 "metadata": {
  "kernelspec": {
   "name": "python385jvsc74a57bd0786ac1e0f0ba734c0f5eda0b71979462900e5e91979501294ebb54f943e94ec8",
   "display_name": "Python 3.8.5 64-bit ('base': conda)"
  },
  "language_info": {
   "codemirror_mode": {
    "name": "ipython",
    "version": 3
   },
   "file_extension": ".py",
   "mimetype": "text/x-python",
   "name": "python",
   "nbconvert_exporter": "python",
   "pygments_lexer": "ipython3",
   "version": "3.8.5"
  }
 },
 "nbformat": 4,
 "nbformat_minor": 4
}