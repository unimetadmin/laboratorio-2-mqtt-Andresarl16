{
 "cells": [
  {
   "cell_type": "code",
   "execution_count": 3,
   "metadata": {},
   "outputs": [],
   "source": [
    "import sys\n",
    "import json\n",
    "import paho.mqtt.client"
   ]
  },
  {
   "cell_type": "code",
   "execution_count": 4,
   "metadata": {},
   "outputs": [
    {
     "name": "stderr",
     "output_type": "stream",
     "text": [
      "Error importing optional module numpy\n",
      "Traceback (most recent call last):\n",
      "  File \"C:\\Users\\AndresARL\\anaconda3\\lib\\site-packages\\_plotly_utils\\optional_imports.py\", line 30, in get_module\n",
      "    return import_module(name)\n",
      "  File \"C:\\Users\\AndresARL\\anaconda3\\lib\\importlib\\__init__.py\", line 127, in import_module\n",
      "    return _bootstrap._gcd_import(name[level:], package, level)\n",
      "  File \"<frozen importlib._bootstrap>\", line 1014, in _gcd_import\n",
      "  File \"<frozen importlib._bootstrap>\", line 991, in _find_and_load\n",
      "  File \"<frozen importlib._bootstrap>\", line 975, in _find_and_load_unlocked\n",
      "  File \"<frozen importlib._bootstrap>\", line 671, in _load_unlocked\n",
      "  File \"<frozen importlib._bootstrap_external>\", line 783, in exec_module\n",
      "  File \"<frozen importlib._bootstrap>\", line 219, in _call_with_frames_removed\n",
      "  File \"C:\\Users\\AndresARL\\anaconda3\\lib\\site-packages\\numpy\\__init__.py\", line 165, in <module>\n",
      "    core.getlimits._register_known_types()\n",
      "  File \"C:\\Users\\AndresARL\\anaconda3\\lib\\site-packages\\numpy\\core\\getlimits.py\", line 162, in _register_known_types\n",
      "    float128_ma = MachArLike(ld,\n",
      "  File \"C:\\Users\\AndresARL\\anaconda3\\lib\\site-packages\\numpy\\core\\getlimits.py\", line 53, in __init__\n",
      "    self._str_eps = float_to_str(self.eps)\n",
      "  File \"C:\\Users\\AndresARL\\anaconda3\\lib\\site-packages\\numpy\\core\\getlimits.py\", line 41, in <lambda>\n",
      "    float_to_str = lambda v: (params['fmt'] % array(_fr0(v)[0], ftype))\n",
      "  File \"C:\\Users\\AndresARL\\anaconda3\\lib\\site-packages\\numpy\\core\\arrayprint.py\", line 1488, in _array_str_implementation\n",
      "    return _guarded_repr_or_str(np.ndarray.__getitem__(a, ()))\n",
      "AttributeError: module 'numpy' has no attribute 'ndarray'\n"
     ]
    },
    {
     "data": {
      "application/vnd.jupyter.widget-view+json": {
       "model_id": "da745835e0d741a5ba20afa90bc78409",
       "version_major": 2,
       "version_minor": 0
      },
      "text/plain": [
       "FigureWidget({\n",
       "    'data': [], 'layout': {'template': '...'}\n",
       "})"
      ]
     },
     "metadata": {},
     "output_type": "display_data"
    }
   ],
   "source": [
    "import plotly.graph_objects as plot\n",
    "\n",
    "personCounterGraph = plot.FigureWidget()\n",
    "personCounterGraph"
   ]
  },
  {
   "cell_type": "code",
   "execution_count": null,
   "metadata": {},
   "outputs": [
    {
     "name": "stdout",
     "output_type": "stream",
     "text": [
      "connected (b'personCounterPotGraph')\n"
     ]
    }
   ],
   "source": [
    "personCounterGraph.add_scatter(y = [], x = [], text = \"Variation of Person Counter Register\")\n",
    "personCounterScatter = personCounterGraph.data[0]\n",
    "personCounterTemp = []\n",
    "personCounterTime = []\n",
    "\n",
    "def on_connect(client, userdata, flags, rc):\n",
    "    print('connected (%s)' % client._client_id)\n",
    "    client.subscribe(topic='house/living_room/person_counter', qos=2)\n",
    "    \n",
    "def on_message(client, userdata, message):\n",
    "    data = json.loads(message.payload)\n",
    "    if(\"persons\" in data):\n",
    "        personCounterTemp.append(int(round(float(data[\"persons\"]), 2)))\n",
    "        personCounterTime.append(data[\"date\"])\n",
    "        personCounterScatter.x = personCounterTime\n",
    "        personCounterScatter.y = personCounterTemp\n",
    "    \n",
    "def main():\n",
    "    client = paho.mqtt.client.Client(client_id='personCounterPotGraph', clean_session=False)\n",
    "    client.on_connect = on_connect\n",
    "    client.on_message = on_message\n",
    "    client.connect(host='127.0.0.1', port=1883)\n",
    "    client.loop_forever()\n",
    "\n",
    "if __name__ == '__main__':\n",
    "    main()\n",
    "\n",
    "sys.exit(0)"
   ]
  },
  {
   "cell_type": "code",
   "execution_count": null,
   "metadata": {},
   "outputs": [],
   "source": []
  },
  {
   "cell_type": "code",
   "execution_count": null,
   "metadata": {},
   "outputs": [],
   "source": []
  }
 ],
 "metadata": {
  "kernelspec": {
   "display_name": "Python 3",
   "language": "python",
   "name": "python3"
  }
 },
 "nbformat": 4,
 "nbformat_minor": 4
}
